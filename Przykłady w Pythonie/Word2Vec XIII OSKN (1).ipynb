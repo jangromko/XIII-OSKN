{
 "cells": [
  {
   "cell_type": "code",
   "execution_count": 1,
   "metadata": {
    "collapsed": true
   },
   "outputs": [],
   "source": [
    "import word2vec\n",
    "\n",
    "%load_ext autoreload\n",
    "%autoreload 2"
   ]
  },
  {
   "cell_type": "code",
   "execution_count": 2,
   "metadata": {
    "collapsed": true
   },
   "outputs": [],
   "source": [
    "model = word2vec.load('/home/jg/Uczenie maszynowe/text8.bin')"
   ]
  },
  {
   "cell_type": "code",
   "execution_count": 3,
   "metadata": {},
   "outputs": [
    {
     "data": {
      "text/plain": [
       "[('red', 0.9079160608612522),\n",
       " ('yellow', 0.8857718486877681),\n",
       " ('green', 0.864468464372218),\n",
       " ('purple', 0.8075988250377824),\n",
       " ('orange', 0.762098647451946),\n",
       " ('pink', 0.7605551382469995),\n",
       " ('white', 0.7436632660385991),\n",
       " ('colored', 0.7405321068914),\n",
       " ('stripes', 0.7364491416635618),\n",
       " ('grey', 0.7345621473334556)]"
      ]
     },
     "execution_count": 3,
     "metadata": {},
     "output_type": "execute_result"
    }
   ],
   "source": [
    "i, m = model.cosine('blue')\n",
    "model.generate_response(i, m).tolist()"
   ]
  },
  {
   "cell_type": "code",
   "execution_count": 4,
   "metadata": {},
   "outputs": [
    {
     "data": {
      "text/plain": [
       "[('warsaw', 0.295870470280799),\n",
       " ('prague', 0.2860359429574608),\n",
       " ('venice', 0.2819642517595353),\n",
       " ('berlin', 0.276617716236754),\n",
       " ('florence', 0.27426182573157526),\n",
       " ('z_rich', 0.2722636207488211),\n",
       " ('k_nigsberg', 0.27031570610421046),\n",
       " ('vienna', 0.26972423246514754),\n",
       " ('munich', 0.26971404366684093),\n",
       " ('dresden', 0.2694440066339969)]"
      ]
     },
     "execution_count": 4,
     "metadata": {},
     "output_type": "execute_result"
    }
   ],
   "source": [
    "i, m = model.analogy(pos=['paris', 'poland'], neg=['france'], n=10)\n",
    "i, m\n",
    "\n",
    "model.generate_response(i, m).tolist()"
   ]
  },
  {
   "cell_type": "code",
   "execution_count": 5,
   "metadata": {},
   "outputs": [
    {
     "data": {
      "text/plain": [
       "[('krak_w', 0.28910608245701364),\n",
       " ('warsaw', 0.2882080623962497),\n",
       " ('k_nigsberg', 0.27928371073793895),\n",
       " ('istanbul', 0.27263178884062633),\n",
       " ('mainz', 0.26936463551097317),\n",
       " ('prague', 0.2666334640276805),\n",
       " ('cologne', 0.2661165754158694),\n",
       " ('dresden', 0.2655710957362455),\n",
       " ('budapest', 0.2651566854282644),\n",
       " ('gda_sk', 0.26405957544945013)]"
      ]
     },
     "execution_count": 5,
     "metadata": {},
     "output_type": "execute_result"
    }
   ],
   "source": [
    "i, m = model.analogy(pos=['berlin', 'poland'], neg=['germany'], n=10)\n",
    "i, m\n",
    "\n",
    "model.generate_response(i, m).tolist()"
   ]
  },
  {
   "cell_type": "code",
   "execution_count": 11,
   "metadata": {},
   "outputs": [
    {
     "data": {
      "text/plain": [
       "[('prague', 0.31458224379243394),\n",
       " ('krak_w', 0.31299224187194885),\n",
       " ('warsaw', 0.3075644695606392),\n",
       " ('mainz', 0.2960015668119029),\n",
       " ('frankfurt', 0.28742729368835707),\n",
       " ('madrid', 0.28334811260096215),\n",
       " ('gda_sk', 0.28299085761833864),\n",
       " ('cologne', 0.28249904542930643),\n",
       " ('istanbul', 0.2823714605334433),\n",
       " ('z_rich', 0.28133287272734675)]"
      ]
     },
     "execution_count": 11,
     "metadata": {},
     "output_type": "execute_result"
    }
   ],
   "source": [
    "i, m = model.analogy(pos=['moscow', 'poland'], neg=['russia'], n=10)\n",
    "i, m\n",
    "\n",
    "model.generate_response(i, m).tolist()"
   ]
  },
  {
   "cell_type": "code",
   "execution_count": 6,
   "metadata": {},
   "outputs": [
    {
     "data": {
      "text/plain": [
       "[('dollar', 0.5954502905032387),\n",
       " ('south_africa', 0.5627424856315376),\n",
       " ('singapore', 0.5518012113424772),\n",
       " ('hong_kong', 0.5359934478948238),\n",
       " ('canada', 0.5357126520676302),\n",
       " ('bahamas', 0.5354272780953689),\n",
       " ('cayman_islands', 0.5340466296005751),\n",
       " ('australia', 0.5335853270392519),\n",
       " ('exchange_rates', 0.5284411359097292),\n",
       " ('botswana', 0.527549388241408)]"
      ]
     },
     "execution_count": 6,
     "metadata": {},
     "output_type": "execute_result"
    }
   ],
   "source": [
    "i, m = model.analogy(pos=['usa', 'currency'], neg=[], n=10)\n",
    "i, m\n",
    "\n",
    "model.generate_response(i, m).tolist()"
   ]
  },
  {
   "cell_type": "code",
   "execution_count": 7,
   "metadata": {},
   "outputs": [
    {
     "data": {
      "text/plain": [
       "[('capitalism', 0.551439030766889),\n",
       " ('socialism', 0.5383542527218146),\n",
       " ('capitalist', 0.5307340824823854),\n",
       " ('marxism', 0.5172428283734001),\n",
       " ('imperialism', 0.5133187587722295),\n",
       " ('liberalism', 0.5122905062204092),\n",
       " ('ideology', 0.5051087448320712),\n",
       " ('fascism', 0.5042194841754811),\n",
       " ('anti_semitism', 0.5019837114360959),\n",
       " ('europe', 0.5012226753124676)]"
      ]
     },
     "execution_count": 7,
     "metadata": {},
     "output_type": "execute_result"
    }
   ],
   "source": [
    "i, m = model.analogy(pos=['world', 'communism'], neg=[], n=10)\n",
    "i, m\n",
    "\n",
    "model.generate_response(i, m).tolist()"
   ]
  },
  {
   "cell_type": "code",
   "execution_count": 18,
   "metadata": {},
   "outputs": [
    {
     "data": {
      "text/plain": [
       "[('cold_war', 0.4663840311226548),\n",
       " ('conflict', 0.44665535763473496),\n",
       " ('civil_war', 0.44329521018390866),\n",
       " ('europe', 0.4431462007826701),\n",
       " ('nation', 0.43892470508787174),\n",
       " ('wars', 0.43662034200956307),\n",
       " ('struggle', 0.4198975965661213),\n",
       " ('soviet_union', 0.41926631622014665),\n",
       " ('holocaust', 0.417833337598743),\n",
       " ('industrial_revolution', 0.41553537073477587)]"
      ]
     },
     "execution_count": 18,
     "metadata": {},
     "output_type": "execute_result"
    }
   ],
   "source": [
    "i, m = model.analogy(pos=['world', 'war'], neg=[], n=10)\n",
    "i, m\n",
    "\n",
    "model.generate_response(i, m).tolist()"
   ]
  },
  {
   "cell_type": "code",
   "execution_count": 19,
   "metadata": {},
   "outputs": [
    {
     "data": {
      "text/plain": [
       "[('nation', 0.4810675680115015),\n",
       " ('humanity', 0.4749764968350082),\n",
       " ('europe', 0.4704974555638856),\n",
       " ('struggle', 0.456147536402067),\n",
       " ('country', 0.4304816074357205),\n",
       " ('nations', 0.4243088830135182),\n",
       " ('israel', 0.42139037378346617),\n",
       " ('unity', 0.4197556730123998),\n",
       " ('conflict', 0.4196026157975636),\n",
       " ('america', 0.4191871804616448)]"
      ]
     },
     "execution_count": 19,
     "metadata": {},
     "output_type": "execute_result"
    }
   ],
   "source": [
    "i, m = model.analogy(pos=['world', 'peace'], neg=[], n=10)\n",
    "i, m\n",
    "\n",
    "model.generate_response(i, m).tolist()"
   ]
  },
  {
   "cell_type": "code",
   "execution_count": 8,
   "metadata": {},
   "outputs": [
    {
     "data": {
      "text/plain": [
       "[('child', 0.4862415386611769),\n",
       " ('teacher', 0.4782222101893871),\n",
       " ('genius', 0.44880120088017644),\n",
       " ('personality', 0.44704234075594695),\n",
       " ('wife', 0.4451247757465884),\n",
       " ('herself', 0.44362755874491344),\n",
       " ('person', 0.43651903672763903),\n",
       " ('mother', 0.435833623964641),\n",
       " ('grandmother', 0.43447330211403357),\n",
       " ('friend', 0.43345613784959375)]"
      ]
     },
     "execution_count": 8,
     "metadata": {},
     "output_type": "execute_result"
    }
   ],
   "source": [
    "i, m = model.analogy(pos=['woman', 'work'], neg=[], n=10)\n",
    "i, m\n",
    "\n",
    "model.generate_response(i, m).tolist()"
   ]
  },
  {
   "cell_type": "code",
   "execution_count": 17,
   "metadata": {},
   "outputs": [
    {
     "data": {
      "text/plain": [
       "[('genius', 0.4762696364208541),\n",
       " ('mind', 0.4713502546831275),\n",
       " ('himself', 0.466095664594507),\n",
       " ('intellect', 0.45593337024576336),\n",
       " ('vision', 0.4543649983637562),\n",
       " ('sublime', 0.4525433113628095),\n",
       " ('imagination', 0.44882747724195515),\n",
       " ('personality', 0.44780461625973267),\n",
       " ('thing', 0.433599754890446),\n",
       " ('soul', 0.43035784296775803)]"
      ]
     },
     "execution_count": 17,
     "metadata": {},
     "output_type": "execute_result"
    }
   ],
   "source": [
    "i, m = model.analogy(pos=['man', 'work'], neg=[], n=10)\n",
    "i, m\n",
    "\n",
    "model.generate_response(i, m).tolist()"
   ]
  },
  {
   "cell_type": "code",
   "execution_count": 10,
   "metadata": {},
   "outputs": [
    {
     "data": {
      "text/plain": [
       "[('girl', 0.6802152551499596),\n",
       " ('boy', 0.6715078687817395),\n",
       " ('child', 0.6528113349103746),\n",
       " ('stranger', 0.6439367628163127),\n",
       " ('person', 0.6350946597721988),\n",
       " ('lady', 0.6173898102624723),\n",
       " ('creature', 0.6074919164602799),\n",
       " ('young_man', 0.5856056709356905),\n",
       " ('lover', 0.5854711681049691),\n",
       " ('young_woman', 0.5805499721950884)]"
      ]
     },
     "execution_count": 10,
     "metadata": {},
     "output_type": "execute_result"
    }
   ],
   "source": [
    "i, m = model.analogy(pos=['man', 'woman'], neg=[], n=10)\n",
    "i, m\n",
    "\n",
    "model.generate_response(i, m).tolist()"
   ]
  },
  {
   "cell_type": "code",
   "execution_count": null,
   "metadata": {
    "collapsed": true
   },
   "outputs": [],
   "source": []
  }
 ],
 "metadata": {
  "kernelspec": {
   "display_name": "Python 3",
   "language": "python",
   "name": "python3"
  },
  "language_info": {
   "codemirror_mode": {
    "name": "ipython",
    "version": 3
   },
   "file_extension": ".py",
   "mimetype": "text/x-python",
   "name": "python",
   "nbconvert_exporter": "python",
   "pygments_lexer": "ipython3",
   "version": "3.6.4"
  }
 },
 "nbformat": 4,
 "nbformat_minor": 2
}
